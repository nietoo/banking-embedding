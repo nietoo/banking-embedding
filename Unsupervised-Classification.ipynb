{
  "nbformat": 4,
  "nbformat_minor": 0,
  "metadata": {
    "colab": {
      "name": "Unsupervised Classification.ipynb",
      "provenance": [],
      "collapsed_sections": [],
      "authorship_tag": "ABX9TyNkjuoGB97kTLhfng8oXdbd"
    },
    "kernelspec": {
      "display_name": "Python 3",
      "name": "python3"
    },
    "language_info": {
      "name": "python"
    },
    "accelerator": "GPU"
  },
  "cells": [
    {
      "cell_type": "markdown",
      "metadata": {
        "id": "wTz2d3m86ngZ"
      },
      "source": [
        "# Setup"
      ]
    },
    {
      "cell_type": "code",
      "metadata": {
        "colab": {
          "base_uri": "https://localhost:8080/"
        },
        "id": "z_4mjAIu8NNR",
        "outputId": "9dbf76ed-8cf0-499f-e6d0-26f18a4bb241"
      },
      "source": [
        "!pip install pytorch_metric_learning\n",
        "!pip install faiss-gpu\n",
        "# !pip install faiss-cpu"
      ],
      "execution_count": null,
      "outputs": [
        {
          "output_type": "stream",
          "text": [
            "Collecting pytorch_metric_learning\n",
            "\u001b[?25l  Downloading https://files.pythonhosted.org/packages/8e/1b/d85136231f8d14fdadcd0a13359bbef02b565f0a0c954297f38c4997c61b/pytorch_metric_learning-0.9.99-py3-none-any.whl (105kB)\n",
            "\r\u001b[K     |███▏                            | 10kB 21.7MB/s eta 0:00:01\r\u001b[K     |██████▎                         | 20kB 20.5MB/s eta 0:00:01\r\u001b[K     |█████████▍                      | 30kB 15.1MB/s eta 0:00:01\r\u001b[K     |████████████▌                   | 40kB 13.0MB/s eta 0:00:01\r\u001b[K     |███████████████▋                | 51kB 7.6MB/s eta 0:00:01\r\u001b[K     |██████████████████▊             | 61kB 8.7MB/s eta 0:00:01\r\u001b[K     |█████████████████████▉          | 71kB 8.6MB/s eta 0:00:01\r\u001b[K     |█████████████████████████       | 81kB 9.3MB/s eta 0:00:01\r\u001b[K     |████████████████████████████    | 92kB 9.0MB/s eta 0:00:01\r\u001b[K     |███████████████████████████████▏| 102kB 7.4MB/s eta 0:00:01\r\u001b[K     |████████████████████████████████| 112kB 7.4MB/s \n",
            "\u001b[?25hRequirement already satisfied: torchvision in /usr/local/lib/python3.7/dist-packages (from pytorch_metric_learning) (0.9.1+cu101)\n",
            "Requirement already satisfied: torch>=1.6.0 in /usr/local/lib/python3.7/dist-packages (from pytorch_metric_learning) (1.8.1+cu101)\n",
            "Requirement already satisfied: tqdm in /usr/local/lib/python3.7/dist-packages (from pytorch_metric_learning) (4.41.1)\n",
            "Requirement already satisfied: scikit-learn in /usr/local/lib/python3.7/dist-packages (from pytorch_metric_learning) (0.22.2.post1)\n",
            "Requirement already satisfied: numpy in /usr/local/lib/python3.7/dist-packages (from pytorch_metric_learning) (1.19.5)\n",
            "Requirement already satisfied: pillow>=4.1.1 in /usr/local/lib/python3.7/dist-packages (from torchvision->pytorch_metric_learning) (7.1.2)\n",
            "Requirement already satisfied: typing-extensions in /usr/local/lib/python3.7/dist-packages (from torch>=1.6.0->pytorch_metric_learning) (3.7.4.3)\n",
            "Requirement already satisfied: scipy>=0.17.0 in /usr/local/lib/python3.7/dist-packages (from scikit-learn->pytorch_metric_learning) (1.4.1)\n",
            "Requirement already satisfied: joblib>=0.11 in /usr/local/lib/python3.7/dist-packages (from scikit-learn->pytorch_metric_learning) (1.0.1)\n",
            "Installing collected packages: pytorch-metric-learning\n",
            "Successfully installed pytorch-metric-learning-0.9.99\n",
            "Collecting faiss-cpu\n",
            "\u001b[?25l  Downloading https://files.pythonhosted.org/packages/48/0c/efd43c4feac172867409f38f07949c36602355ec7196749d10f905d09228/faiss_cpu-1.7.0-cp37-cp37m-manylinux2014_x86_64.whl (8.1MB)\n",
            "\u001b[K     |████████████████████████████████| 8.2MB 7.1MB/s \n",
            "\u001b[?25hInstalling collected packages: faiss-cpu\n",
            "Successfully installed faiss-cpu-1.7.0\n"
          ],
          "name": "stdout"
        }
      ]
    },
    {
      "cell_type": "code",
      "metadata": {
        "id": "WxZqKDGMCI-r"
      },
      "source": [
        "import torch\n",
        "import pickle\n",
        "import numpy as np\n",
        "import pandas as pd\n",
        "import seaborn as sns\n",
        "import torch.nn as nn\n",
        "import matplotlib.pyplot as plt\n",
        "from tqdm import tqdm\n",
        "from google.colab import drive\n",
        "from sklearn.metrics import accuracy_score\n",
        "from torch.utils.data import Dataset, DataLoader, SequentialSampler, TensorDataset, random_split\n",
        "from pytorch_metric_learning import losses, miners, reducers, samplers, distances\n",
        "\n",
        "\n",
        "np.set_printoptions(suppress=True)"
      ],
      "execution_count": null,
      "outputs": []
    },
    {
      "cell_type": "code",
      "metadata": {
        "id": "mxsY5IR_CTVo",
        "colab": {
          "base_uri": "https://localhost:8080/"
        },
        "outputId": "d56c3f14-3783-4ccc-e4ec-88422e700117"
      },
      "source": [
        "drive.mount('/content/gdrive/')\n",
        "path = 'gdrive/MyDrive/Programming Projects/Embeddings/data/'"
      ],
      "execution_count": null,
      "outputs": [
        {
          "output_type": "stream",
          "text": [
            "Mounted at /content/gdrive/\n"
          ],
          "name": "stdout"
        }
      ]
    },
    {
      "cell_type": "code",
      "metadata": {
        "id": "7cPCsjG9CQnH"
      },
      "source": [
        "use_cuda = torch.cuda.is_available()\n",
        "\n",
        "device = torch.device(\"cuda:0\" if use_cuda else \"cpu\") "
      ],
      "execution_count": null,
      "outputs": []
    },
    {
      "cell_type": "code",
      "metadata": {
        "id": "qpCy7BRaCVFd"
      },
      "source": [
        "#HYPERPARAMETERS\n",
        "\n",
        "np.random.seed(1871)\n",
        "CHECKPOINT_PATH = path + \"model.pt\"\n",
        "LOAD_PICKLED_DATASET = True\n",
        "\n",
        "#Positive pairs generation\n",
        "SEQUENCE_LEN = 120\n",
        "SEQUENCES_PER_CLIENT = 10\n",
        "\n",
        "#Encoder\n",
        "EVENT_ENCODING_DIMENSIONS = 32\n",
        "RNN_HIDDEN_STATE_DIMENSIONS = 256\n",
        "EVENT_EMBEDDING_DIMENSIONS = 8\n",
        "\n",
        "EPOCHS = 40\n",
        "BATCH_SIZE = 128\n",
        "LEARNING_RATE = 5e-4\n",
        "\n",
        "#Classifier\n",
        "CLASSIFIER_LAYER1_DIM = 256\n",
        "CLASSIFIER_LAYER2_DIM = 256\n",
        "\n",
        "CLASSIFIER_EPOCHS = 100\n",
        "CLASSIFIER_BATCH_SIZE = 256\n",
        "CLASSIFIER_LEARNING_RATE = 1e-4\n",
        "\n"
      ],
      "execution_count": null,
      "outputs": []
    },
    {
      "cell_type": "markdown",
      "metadata": {
        "id": "An6RYp5h6lrU"
      },
      "source": [
        "# Data"
      ]
    },
    {
      "cell_type": "code",
      "metadata": {
        "id": "kiTWpqgoE1kz"
      },
      "source": [
        "def subsequence_generator(sequence, pad_vector, to_generate=10, length=120):\n",
        "    start_idx = np.random.randint(0, len(sequence) - 1, size=to_generate)\n",
        "    ret = np.tile(pad_vector, (to_generate, length, 1))\n",
        "\n",
        "    for i, idx in enumerate(start_idx):\n",
        "        subsequence = sequence[idx:]\n",
        "        ret[i, 0:subsequence.shape[0]] = subsequence[:min(len(subsequence), length)]\n",
        "\n",
        "    return ret"
      ],
      "execution_count": null,
      "outputs": []
    },
    {
      "cell_type": "code",
      "metadata": {
        "id": "yQQDPjlZE2FU"
      },
      "source": [
        "class TransactionDataset(Dataset):\n",
        "    def __init__(self, data, num_subsequences=10, subsequence_len=120):\n",
        "        self.clients = data['client_id'].unique()\n",
        "        \n",
        "\n",
        "        data['small_group'] = data['small_group'] + 1 # allowing us to use \"0\" as padding\n",
        "\n",
        "        data['trans_date'] = pd.to_datetime(data['trans_date'], unit='d')\n",
        "        data['day_of_week'] = data['trans_date'].dt.dayofweek + 1\n",
        "        data['month'] = data['trans_date'].dt.month\n",
        "        data = data.drop(columns=['trans_date'])\n",
        "\n",
        "        data=data.reindex(columns=['client_id','small_group', 'day_of_week', 'month', 'amount_rur'])\n",
        "\n",
        "\n",
        "        pad_sequence = np.array([0,0,0,0.])\n",
        "\n",
        "        self.data = list()\n",
        "        for i, client in enumerate(self.clients):\n",
        "            sequence = data[data['client_id'] == client].drop(columns=['client_id']).to_numpy()\n",
        "            self.data.append(subsequence_generator(sequence, pad_sequence, num_subsequences, subsequence_len))\n",
        "            \n",
        "        self.data = np.array(self.data)\n",
        "        \n",
        "\n",
        "    def __len__(self):\n",
        "        return self.clients.shape[0]\n",
        "\n",
        "    def __getitem__(self, idx):\n",
        "        return self.data[idx], self.clients[idx]"
      ],
      "execution_count": null,
      "outputs": []
    },
    {
      "cell_type": "code",
      "metadata": {
        "id": "KI7P2DhZ6RKS",
        "colab": {
          "base_uri": "https://localhost:8080/"
        },
        "outputId": "ca46ed34-6a61-4cf5-94b4-aff6d9345ec2"
      },
      "source": [
        "df = pd.read_csv(path + \"transactions_train.csv\")\n",
        "\n",
        "\n",
        "if LOAD_PICKLED_DATASET:\n",
        "    train_dataset = pickle.load(open(path + \"unsupervised_train_dataset.p\", \"rb\" ))\n",
        "    test_dataset = pickle.load(open(path + \"unsupervised_test_dataset.p\", \"rb\" ))\n",
        "else:\n",
        "    test_clients = np.random.choice(df.client_id.unique(), size=int(0.2 * df.client_id.nunique()), replace=False)\n",
        "    train_clients = np.array(list(set(df.client_id.unique()) - set(test_clients)))\n",
        "    train_idx = ~df.client_id.isin(test_clients)\n",
        "\n",
        "    df_train = df[train_idx].copy()\n",
        "    df_test = df[~train_idx].copy()\n",
        "    train_dataset = TransactionDataset(df_train, \n",
        "                                    num_subsequences=SEQUENCES_PER_CLIENT,\n",
        "                                    subsequence_len=SEQUENCE_LEN)\n",
        "    pickle.dump(train_dataset, open(path + \"unsupervised_train_dataset.p\", \"wb\" ) )\n",
        "\n",
        "    test_dataset = TransactionDataset(df_test, \n",
        "                                    num_subsequences=SEQUENCES_PER_CLIENT,\n",
        "                                    subsequence_len=SEQUENCE_LEN)\n",
        "    pickle.dump(test_dataset, open(path + \"unsupervised_test_dataset.p\", \"wb\" ) )\n",
        "\n",
        "\n",
        "train_dataloader = DataLoader(train_dataset, batch_size=BATCH_SIZE, shuffle=True)\n",
        "test_dataloader = DataLoader(test_dataset, batch_size=BATCH_SIZE, shuffle=True)\n",
        "train_sampler = samplers.MPerClassSampler(train_dataset.clients, 1, batch_size=BATCH_SIZE, length_before_new_iter=len(train_dataset))\n",
        "test_sampler = samplers.MPerClassSampler(test_dataset.clients, 1, batch_size=BATCH_SIZE, length_before_new_iter=len(test_dataset))\n",
        "\n",
        "print(len(train_dataset), len(test_dataset))"
      ],
      "execution_count": null,
      "outputs": [
        {
          "output_type": "stream",
          "text": [
            "24000 6000\n"
          ],
          "name": "stdout"
        }
      ]
    },
    {
      "cell_type": "markdown",
      "metadata": {
        "id": "Vyg5sFIo6hwR"
      },
      "source": [
        "# Encoder\n"
      ]
    },
    {
      "cell_type": "code",
      "metadata": {
        "id": "B3k--jciE4CT"
      },
      "source": [
        "class EventEncoder(nn.Module):\n",
        "    def __init__(self, num_features, cat_features, cat_vocab_sizes, out_dim, emb_dim=32):\n",
        "        super(EventEncoder, self).__init__()\n",
        "\n",
        "        self.initial_norm = nn.BatchNorm1d(num_features, affine=False)\n",
        "\n",
        "        # len(nn.ModuleList) is a bit wacky, so we'll store the size just in case\n",
        "        self.embeddings = nn.ModuleList() \n",
        "        self.cat_features = cat_features \n",
        "        for i in range(cat_features):\n",
        "            self.embeddings.append(nn.Embedding(cat_vocab_sizes[i], emb_dim, padding_idx=0))\n",
        "\n",
        "        cur_size = emb_dim * cat_features + num_features\n",
        "        self.process = nn.Sequential(\n",
        "            nn.Linear(cur_size, out_dim),\n",
        "            nn.Sigmoid(),\n",
        "            nn.BatchNorm1d(out_dim),\n",
        "        )\n",
        "\n",
        "    def forward(self, numerical, categorical):\n",
        "        concat_input = self.initial_norm(numerical)\n",
        "\n",
        "        for i in range(self.cat_features):\n",
        "            embedded_cat = self.embeddings[i](categorical[:,i])\n",
        "            concat_input = torch.cat((concat_input, embedded_cat), 1)\n",
        "        out = self.process(concat_input)\n",
        "        \n",
        "        return out"
      ],
      "execution_count": null,
      "outputs": []
    },
    {
      "cell_type": "code",
      "metadata": {
        "id": "3iNS70SYE4yd"
      },
      "source": [
        "class SequenceEncoder(nn.Module):\n",
        "    def __init__(self, num_features, cat_features, cat_vocab_sizes, sequence_len, event_dim=128, hidden_size=128, event_emb_dim=32):\n",
        "\n",
        "        super(SequenceEncoder, self).__init__()\n",
        "\n",
        "        self.num_features = num_features\n",
        "        self.cat_features = cat_features\n",
        "        self.sequence_len = sequence_len\n",
        "        self.event_dim = event_dim\n",
        "\n",
        "        self.event_encoder = EventEncoder(num_features, cat_features, cat_vocab_sizes, event_dim, emb_dim=event_emb_dim)\n",
        "\n",
        "        self.rnn = nn.GRU(event_dim, hidden_size, batch_first=True)\n",
        "\n",
        "                     \n",
        "    def forward(self, numerical, categorical):\n",
        "        # numerical of size (batch_size, num_of_sequences, sequence_len, num_features)\n",
        "        # categorical of size (batch_size, num_of_sequences, sequence_len, cat_features)\n",
        "\n",
        "        numerical = numerical.view(-1, self.num_features)\n",
        "        categorical = categorical.view(-1, self.cat_features)\n",
        "        \n",
        "        # receiving batch_size x num_of_sequences x sequence_len x event_dim events\n",
        "        events = self.event_encoder(numerical, categorical)\n",
        "        events = events.view(-1, self.sequence_len, self.event_dim)\n",
        "\n",
        "        #taking the output of the last cell        \n",
        "        out = self.rnn(events)[0][:,-1,:]\n",
        "        \n",
        "        return out"
      ],
      "execution_count": null,
      "outputs": []
    },
    {
      "cell_type": "code",
      "metadata": {
        "id": "lvDtbwMcE7GH"
      },
      "source": [
        "encoder = SequenceEncoder(num_features=1, \n",
        "                          cat_features=3, \n",
        "                          cat_vocab_sizes=[df['small_group'].max() + 2, 8, 13], # +1 for padding \n",
        "                          sequence_len=SEQUENCE_LEN, \n",
        "                          event_dim=EVENT_ENCODING_DIMENSIONS, \n",
        "                          hidden_size=RNN_HIDDEN_STATE_DIMENSIONS,\n",
        "                          event_emb_dim=EVENT_EMBEDDING_DIMENSIONS)\n",
        "\n",
        "encoder.to(device)\n",
        "\n",
        "optimizer = torch.optim.AdamW(encoder.parameters(), lr=LEARNING_RATE)\n",
        "\n",
        "reduce_func = reducers.AvgNonZeroReducer()\n",
        "distance_func = distances.LpDistance()\n",
        "loss_func = losses.TripletMarginLoss(margin=0.3, distance = distance_func, reducer = reduce_func)\n",
        "miner_func = miners.TripletMarginMiner(margin=0.3, distance = distance_func, type_of_triplets=\"semihard\")\n",
        "\n",
        "categorical_mask = [True, True, True, False]"
      ],
      "execution_count": null,
      "outputs": []
    },
    {
      "cell_type": "code",
      "metadata": {
        "colab": {
          "base_uri": "https://localhost:8080/",
          "height": 1000
        },
        "id": "kAoqrOzcJt-Y",
        "outputId": "56113edc-1a75-4ead-d760-7b0c373bde1c"
      },
      "source": [
        "train_loss_history = list()\n",
        "val_loss_history = list()\n",
        "\n",
        "\n",
        "for epoch in tqdm(range(EPOCHS)):\n",
        "    cur_losses = list()\n",
        "\n",
        "    encoder.train()\n",
        "    for batch_idx, (sequences, labels) in enumerate(train_dataloader):\n",
        "        \n",
        "        numerical = sequences[:,:,:,np.logical_not(categorical_mask)].to(device)\n",
        "        categorical = sequences[:,:,:,categorical_mask].to(device)\n",
        "        \n",
        "        labels = np.repeat(labels, SEQUENCES_PER_CLIENT).to(device)\n",
        "\n",
        "        embeddings = encoder(numerical.float(), categorical.int()).to(device)\n",
        "        mining = miner_func(embeddings, labels)\n",
        "        train_loss = loss_func(embeddings, labels, mining)\n",
        "\n",
        "        train_loss.backward()\n",
        "        optimizer.step()\n",
        "        optimizer.zero_grad()\n",
        "        cur_losses.append(train_loss.item())\n",
        "\n",
        "    train_loss_history.append(np.mean(cur_losses))\n",
        "\n",
        "    cur_losses = list()\n",
        "\n",
        "    encoder.eval()\n",
        "    for batch_idx, (sequences, labels) in enumerate(test_dataloader):\n",
        "\n",
        "        numerical = sequences[:,:,:,np.logical_not(categorical_mask)].to(device)\n",
        "        categorical = sequences[:,:,:,categorical_mask].to(device)\n",
        "\n",
        "        labels = np.repeat(labels, SEQUENCES_PER_CLIENT).to(device)\n",
        "\n",
        "        with torch.no_grad():\n",
        "            embeddings = encoder(numerical.float(), categorical.int()).to(device)\n",
        "            mining = miner_func(embeddings, labels)\n",
        "            val_loss = loss_func(embeddings, labels, mining)\n",
        "\n",
        "            cur_losses.append(val_loss.item())\n",
        "\n",
        "    val_loss_history.append(np.mean(cur_losses))\n",
        "\n",
        "    print(\"\\nEpoch {}; Train loss = {}; Val loss = {}\".format(epoch+1, train_loss_history[-1], val_loss_history[-1]))\n",
        "\n",
        "    torch.save({\n",
        "            'epoch': epoch,\n",
        "            'model_state_dict': encoder.state_dict(),\n",
        "            'optimizer_state_dict': optimizer.state_dict(),\n",
        "            'loss': train_loss_history[-1],\n",
        "            }, CHECKPOINT_PATH)"
      ],
      "execution_count": null,
      "outputs": [
        {
          "output_type": "stream",
          "text": [
            "\r  0%|          | 0/64 [00:00<?, ?it/s]"
          ],
          "name": "stderr"
        },
        {
          "output_type": "stream",
          "text": [
            "\n",
            "Epoch 1; Train loss = 0.16625371337571043; Val loss = 0.16228689221625633\n"
          ],
          "name": "stdout"
        },
        {
          "output_type": "stream",
          "text": [
            "  3%|▎         | 2/64 [04:37<2:24:00, 139.36s/it]"
          ],
          "name": "stderr"
        },
        {
          "output_type": "stream",
          "text": [
            "\n",
            "Epoch 2; Train loss = 0.15947269537347428; Val loss = 0.1565939761856769\n"
          ],
          "name": "stdout"
        },
        {
          "output_type": "stream",
          "text": [
            "\r  5%|▍         | 3/64 [06:54<2:20:51, 138.55s/it]"
          ],
          "name": "stderr"
        },
        {
          "output_type": "stream",
          "text": [
            "\n",
            "Epoch 3; Train loss = 0.1548767070028376; Val loss = 0.1542909208764421\n"
          ],
          "name": "stdout"
        },
        {
          "output_type": "stream",
          "text": [
            "\r  6%|▋         | 4/64 [09:10<2:17:41, 137.70s/it]"
          ],
          "name": "stderr"
        },
        {
          "output_type": "stream",
          "text": [
            "\n",
            "Epoch 4; Train loss = 0.15391254813430158; Val loss = 0.15332157148959788\n"
          ],
          "name": "stdout"
        },
        {
          "output_type": "stream",
          "text": [
            "\r  8%|▊         | 5/64 [11:25<2:14:49, 137.12s/it]"
          ],
          "name": "stderr"
        },
        {
          "output_type": "stream",
          "text": [
            "\n",
            "Epoch 5; Train loss = 0.15258044947652108; Val loss = 0.15161607810791503\n"
          ],
          "name": "stdout"
        },
        {
          "output_type": "stream",
          "text": [
            "\r  9%|▉         | 6/64 [13:42<2:12:22, 136.93s/it]"
          ],
          "name": "stderr"
        },
        {
          "output_type": "stream",
          "text": [
            "\n",
            "Epoch 6; Train loss = 0.148026168980497; Val loss = 0.14355749303990223\n"
          ],
          "name": "stdout"
        },
        {
          "output_type": "stream",
          "text": [
            "\r 11%|█         | 7/64 [15:57<2:09:40, 136.50s/it]"
          ],
          "name": "stderr"
        },
        {
          "output_type": "stream",
          "text": [
            "\n",
            "Epoch 7; Train loss = 0.14141962764428018; Val loss = 0.1404232588854242\n"
          ],
          "name": "stdout"
        },
        {
          "output_type": "stream",
          "text": [
            "\r 12%|█▎        | 8/64 [18:12<2:07:01, 136.09s/it]"
          ],
          "name": "stderr"
        },
        {
          "output_type": "stream",
          "text": [
            "\n",
            "Epoch 8; Train loss = 0.13931827167881297; Val loss = 0.13697667356501234\n"
          ],
          "name": "stdout"
        },
        {
          "output_type": "stream",
          "text": [
            "\r 14%|█▍        | 9/64 [20:28<2:04:28, 135.80s/it]"
          ],
          "name": "stderr"
        },
        {
          "output_type": "stream",
          "text": [
            "\n",
            "Epoch 9; Train loss = 0.13652995981751603; Val loss = 0.13562903505690554\n"
          ],
          "name": "stdout"
        },
        {
          "output_type": "stream",
          "text": [
            "\r 16%|█▌        | 10/64 [22:42<2:01:44, 135.27s/it]"
          ],
          "name": "stderr"
        },
        {
          "output_type": "stream",
          "text": [
            "\n",
            "Epoch 10; Train loss = 0.13565169235176228; Val loss = 0.13572527912068874\n"
          ],
          "name": "stdout"
        },
        {
          "output_type": "stream",
          "text": [
            "\r 17%|█▋        | 11/64 [24:55<1:59:05, 134.81s/it]"
          ],
          "name": "stderr"
        },
        {
          "output_type": "stream",
          "text": [
            "\n",
            "Epoch 11; Train loss = 0.13480601309144752; Val loss = 0.13378043282539287\n"
          ],
          "name": "stdout"
        },
        {
          "output_type": "stream",
          "text": [
            "\r 19%|█▉        | 12/64 [27:09<1:56:28, 134.39s/it]"
          ],
          "name": "stderr"
        },
        {
          "output_type": "stream",
          "text": [
            "\n",
            "Epoch 12; Train loss = 0.1321726016541745; Val loss = 0.1308947062872826\n"
          ],
          "name": "stdout"
        },
        {
          "output_type": "stream",
          "text": [
            "\r 20%|██        | 13/64 [29:22<1:53:49, 133.91s/it]"
          ],
          "name": "stderr"
        },
        {
          "output_type": "stream",
          "text": [
            "\n",
            "Epoch 13; Train loss = 0.13063627362568328; Val loss = 0.12973396067923687\n"
          ],
          "name": "stdout"
        },
        {
          "output_type": "stream",
          "text": [
            "\r 22%|██▏       | 14/64 [31:35<1:51:24, 133.70s/it]"
          ],
          "name": "stderr"
        },
        {
          "output_type": "stream",
          "text": [
            "\n",
            "Epoch 14; Train loss = 0.12830507798873364; Val loss = 0.12752684855714758\n"
          ],
          "name": "stdout"
        },
        {
          "output_type": "stream",
          "text": [
            "\r 23%|██▎       | 15/64 [33:47<1:48:49, 133.25s/it]"
          ],
          "name": "stderr"
        },
        {
          "output_type": "stream",
          "text": [
            "\n",
            "Epoch 15; Train loss = 0.127288481220603; Val loss = 0.12673995532888047\n"
          ],
          "name": "stdout"
        },
        {
          "output_type": "stream",
          "text": [
            "\r 25%|██▌       | 16/64 [35:59<1:46:18, 132.88s/it]"
          ],
          "name": "stderr"
        },
        {
          "output_type": "stream",
          "text": [
            "\n",
            "Epoch 16; Train loss = 0.1265690441223535; Val loss = 0.12575725259933065\n"
          ],
          "name": "stdout"
        },
        {
          "output_type": "stream",
          "text": [
            "\r 27%|██▋       | 17/64 [38:11<1:43:58, 132.74s/it]"
          ],
          "name": "stderr"
        },
        {
          "output_type": "stream",
          "text": [
            "\n",
            "Epoch 17; Train loss = 0.12559227570098766; Val loss = 0.12449126183352571\n"
          ],
          "name": "stdout"
        },
        {
          "output_type": "stream",
          "text": [
            "\r 28%|██▊       | 18/64 [40:24<1:41:37, 132.56s/it]"
          ],
          "name": "stderr"
        },
        {
          "output_type": "stream",
          "text": [
            "\n",
            "Epoch 18; Train loss = 0.12410635505109391; Val loss = 0.12326602336574108\n"
          ],
          "name": "stdout"
        },
        {
          "output_type": "stream",
          "text": [
            "\r 30%|██▉       | 19/64 [42:35<1:39:17, 132.39s/it]"
          ],
          "name": "stderr"
        },
        {
          "output_type": "stream",
          "text": [
            "\n",
            "Epoch 19; Train loss = 0.122698746264932; Val loss = 0.12175938915064995\n"
          ],
          "name": "stdout"
        },
        {
          "output_type": "stream",
          "text": [
            "\r 31%|███▏      | 20/64 [44:47<1:36:55, 132.16s/it]"
          ],
          "name": "stderr"
        },
        {
          "output_type": "stream",
          "text": [
            "\n",
            "Epoch 20; Train loss = 0.12190166242579197; Val loss = 0.1214027426978375\n"
          ],
          "name": "stdout"
        },
        {
          "output_type": "stream",
          "text": [
            "\r 33%|███▎      | 21/64 [46:59<1:34:36, 132.02s/it]"
          ],
          "name": "stderr"
        },
        {
          "output_type": "stream",
          "text": [
            "\n",
            "Epoch 21; Train loss = 0.12114436781786858; Val loss = 0.12089819175765869\n"
          ],
          "name": "stdout"
        },
        {
          "output_type": "stream",
          "text": [
            "\r 34%|███▍      | 22/64 [49:10<1:32:17, 131.84s/it]"
          ],
          "name": "stderr"
        },
        {
          "output_type": "stream",
          "text": [
            "\n",
            "Epoch 22; Train loss = 0.12060888682274108; Val loss = 0.12034695595502853\n"
          ],
          "name": "stdout"
        },
        {
          "output_type": "stream",
          "text": [
            "\r 36%|███▌      | 23/64 [51:22<1:30:00, 131.72s/it]"
          ],
          "name": "stderr"
        },
        {
          "output_type": "stream",
          "text": [
            "\n",
            "Epoch 23; Train loss = 0.1199673002863184; Val loss = 0.11997639752448873\n"
          ],
          "name": "stdout"
        },
        {
          "output_type": "stream",
          "text": [
            "\r 38%|███▊      | 24/64 [53:33<1:27:39, 131.49s/it]"
          ],
          "name": "stderr"
        },
        {
          "output_type": "stream",
          "text": [
            "\n",
            "Epoch 24; Train loss = 0.11939102411270142; Val loss = 0.11906284458459691\n"
          ],
          "name": "stdout"
        },
        {
          "output_type": "stream",
          "text": [
            "\r 39%|███▉      | 25/64 [55:44<1:25:22, 131.36s/it]"
          ],
          "name": "stderr"
        },
        {
          "output_type": "stream",
          "text": [
            "\n",
            "Epoch 25; Train loss = 0.11882944971798583; Val loss = 0.11826733737549883\n"
          ],
          "name": "stdout"
        },
        {
          "output_type": "stream",
          "text": [
            "\r 41%|████      | 26/64 [57:55<1:23:09, 131.30s/it]"
          ],
          "name": "stderr"
        },
        {
          "output_type": "stream",
          "text": [
            "\n",
            "Epoch 26; Train loss = 0.1184467797742245; Val loss = 0.11830399740249553\n"
          ],
          "name": "stdout"
        },
        {
          "output_type": "stream",
          "text": [
            "\r 42%|████▏     | 27/64 [1:00:06<1:20:51, 131.13s/it]"
          ],
          "name": "stderr"
        },
        {
          "output_type": "stream",
          "text": [
            "\n",
            "Epoch 27; Train loss = 0.1180110919348737; Val loss = 0.11795518721671815\n"
          ],
          "name": "stdout"
        },
        {
          "output_type": "stream",
          "text": [
            "\r 44%|████▍     | 28/64 [1:02:16<1:18:35, 130.99s/it]"
          ],
          "name": "stderr"
        },
        {
          "output_type": "stream",
          "text": [
            "\n",
            "Epoch 28; Train loss = 0.11774782792843402; Val loss = 0.11732610045595372\n"
          ],
          "name": "stdout"
        },
        {
          "output_type": "stream",
          "text": [
            "\r 45%|████▌     | 29/64 [1:04:27<1:16:20, 130.86s/it]"
          ],
          "name": "stderr"
        },
        {
          "output_type": "stream",
          "text": [
            "\n",
            "Epoch 29; Train loss = 0.11738292702493515; Val loss = 0.11753104595427817\n"
          ],
          "name": "stdout"
        },
        {
          "output_type": "stream",
          "text": [
            "\r 47%|████▋     | 30/64 [1:06:37<1:14:06, 130.77s/it]"
          ],
          "name": "stderr"
        },
        {
          "output_type": "stream",
          "text": [
            "\n",
            "Epoch 30; Train loss = 0.11710233645553285; Val loss = 0.11756765446130266\n"
          ],
          "name": "stdout"
        },
        {
          "output_type": "stream",
          "text": [
            "\r 48%|████▊     | 31/64 [1:08:48<1:11:50, 130.63s/it]"
          ],
          "name": "stderr"
        },
        {
          "output_type": "stream",
          "text": [
            "\n",
            "Epoch 31; Train loss = 0.11693774163722992; Val loss = 0.11706097852042381\n"
          ],
          "name": "stdout"
        },
        {
          "output_type": "stream",
          "text": [
            "\r 50%|█████     | 32/64 [1:10:58<1:09:36, 130.50s/it]"
          ],
          "name": "stderr"
        },
        {
          "output_type": "stream",
          "text": [
            "\n",
            "Epoch 32; Train loss = 0.11663260564525077; Val loss = 0.11718289839460495\n"
          ],
          "name": "stdout"
        },
        {
          "output_type": "stream",
          "text": [
            "\r 52%|█████▏    | 33/64 [1:13:08<1:07:23, 130.42s/it]"
          ],
          "name": "stderr"
        },
        {
          "output_type": "stream",
          "text": [
            "\n",
            "Epoch 33; Train loss = 0.11635251446290219; Val loss = 0.11643129904219444\n"
          ],
          "name": "stdout"
        },
        {
          "output_type": "stream",
          "text": [
            "\r 53%|█████▎    | 34/64 [1:15:18<1:05:11, 130.38s/it]"
          ],
          "name": "stderr"
        },
        {
          "output_type": "stream",
          "text": [
            "\n",
            "Epoch 34; Train loss = 0.11613090213467465; Val loss = 0.11643382383787886\n"
          ],
          "name": "stdout"
        },
        {
          "output_type": "stream",
          "text": [
            "\r 55%|█████▍    | 35/64 [1:17:29<1:03:00, 130.35s/it]"
          ],
          "name": "stderr"
        },
        {
          "output_type": "stream",
          "text": [
            "\n",
            "Epoch 35; Train loss = 0.11583422421616443; Val loss = 0.11630770817716071\n"
          ],
          "name": "stdout"
        },
        {
          "output_type": "stream",
          "text": [
            "\r 56%|█████▋    | 36/64 [1:19:39<1:00:48, 130.31s/it]"
          ],
          "name": "stderr"
        },
        {
          "output_type": "stream",
          "text": [
            "\n",
            "Epoch 36; Train loss = 0.11565923124076204; Val loss = 0.11551093516197611\n"
          ],
          "name": "stdout"
        },
        {
          "output_type": "stream",
          "text": [
            "\r 58%|█████▊    | 37/64 [1:21:49<58:38, 130.30s/it]  "
          ],
          "name": "stderr"
        },
        {
          "output_type": "stream",
          "text": [
            "\n",
            "Epoch 37; Train loss = 0.11543807490391934; Val loss = 0.11567193491661802\n"
          ],
          "name": "stdout"
        },
        {
          "output_type": "stream",
          "text": [
            "\r 59%|█████▉    | 38/64 [1:23:59<56:27, 130.28s/it]"
          ],
          "name": "stderr"
        },
        {
          "output_type": "stream",
          "text": [
            "\n",
            "Epoch 38; Train loss = 0.11515078598514517; Val loss = 0.11567733151481506\n"
          ],
          "name": "stdout"
        },
        {
          "output_type": "stream",
          "text": [
            "\r 61%|██████    | 39/64 [1:26:10<54:17, 130.29s/it]"
          ],
          "name": "stderr"
        },
        {
          "output_type": "stream",
          "text": [
            "\n",
            "Epoch 39; Train loss = 0.11491943444026277; Val loss = 0.11592633546666896\n"
          ],
          "name": "stdout"
        },
        {
          "output_type": "stream",
          "text": [
            "\r 62%|██████▎   | 40/64 [1:28:20<52:06, 130.26s/it]"
          ],
          "name": "stderr"
        },
        {
          "output_type": "stream",
          "text": [
            "\n",
            "Epoch 40; Train loss = 0.11468583916095977; Val loss = 0.11552763540059963\n"
          ],
          "name": "stdout"
        },
        {
          "output_type": "error",
          "ename": "KeyboardInterrupt",
          "evalue": "ignored",
          "traceback": [
            "\u001b[0;31m---------------------------------------------------------------------------\u001b[0m",
            "\u001b[0;31mKeyboardInterrupt\u001b[0m                         Traceback (most recent call last)",
            "\u001b[0;32m<ipython-input-12-58fd8675355c>\u001b[0m in \u001b[0;36m<module>\u001b[0;34m()\u001b[0m\n\u001b[1;32m     18\u001b[0m         \u001b[0mtrain_loss\u001b[0m \u001b[0;34m=\u001b[0m \u001b[0mloss_func\u001b[0m\u001b[0;34m(\u001b[0m\u001b[0membeddings\u001b[0m\u001b[0;34m,\u001b[0m \u001b[0mlabels\u001b[0m\u001b[0;34m,\u001b[0m \u001b[0mmining\u001b[0m\u001b[0;34m)\u001b[0m\u001b[0;34m\u001b[0m\u001b[0;34m\u001b[0m\u001b[0m\n\u001b[1;32m     19\u001b[0m \u001b[0;34m\u001b[0m\u001b[0m\n\u001b[0;32m---> 20\u001b[0;31m         \u001b[0mtrain_loss\u001b[0m\u001b[0;34m.\u001b[0m\u001b[0mbackward\u001b[0m\u001b[0;34m(\u001b[0m\u001b[0;34m)\u001b[0m\u001b[0;34m\u001b[0m\u001b[0;34m\u001b[0m\u001b[0m\n\u001b[0m\u001b[1;32m     21\u001b[0m         \u001b[0moptimizer\u001b[0m\u001b[0;34m.\u001b[0m\u001b[0mstep\u001b[0m\u001b[0;34m(\u001b[0m\u001b[0;34m)\u001b[0m\u001b[0;34m\u001b[0m\u001b[0;34m\u001b[0m\u001b[0m\n\u001b[1;32m     22\u001b[0m         \u001b[0moptimizer\u001b[0m\u001b[0;34m.\u001b[0m\u001b[0mzero_grad\u001b[0m\u001b[0;34m(\u001b[0m\u001b[0;34m)\u001b[0m\u001b[0;34m\u001b[0m\u001b[0;34m\u001b[0m\u001b[0m\n",
            "\u001b[0;32m/usr/local/lib/python3.7/dist-packages/torch/tensor.py\u001b[0m in \u001b[0;36mbackward\u001b[0;34m(self, gradient, retain_graph, create_graph, inputs)\u001b[0m\n\u001b[1;32m    243\u001b[0m                 \u001b[0mcreate_graph\u001b[0m\u001b[0;34m=\u001b[0m\u001b[0mcreate_graph\u001b[0m\u001b[0;34m,\u001b[0m\u001b[0;34m\u001b[0m\u001b[0;34m\u001b[0m\u001b[0m\n\u001b[1;32m    244\u001b[0m                 inputs=inputs)\n\u001b[0;32m--> 245\u001b[0;31m         \u001b[0mtorch\u001b[0m\u001b[0;34m.\u001b[0m\u001b[0mautograd\u001b[0m\u001b[0;34m.\u001b[0m\u001b[0mbackward\u001b[0m\u001b[0;34m(\u001b[0m\u001b[0mself\u001b[0m\u001b[0;34m,\u001b[0m \u001b[0mgradient\u001b[0m\u001b[0;34m,\u001b[0m \u001b[0mretain_graph\u001b[0m\u001b[0;34m,\u001b[0m \u001b[0mcreate_graph\u001b[0m\u001b[0;34m,\u001b[0m \u001b[0minputs\u001b[0m\u001b[0;34m=\u001b[0m\u001b[0minputs\u001b[0m\u001b[0;34m)\u001b[0m\u001b[0;34m\u001b[0m\u001b[0;34m\u001b[0m\u001b[0m\n\u001b[0m\u001b[1;32m    246\u001b[0m \u001b[0;34m\u001b[0m\u001b[0m\n\u001b[1;32m    247\u001b[0m     \u001b[0;32mdef\u001b[0m \u001b[0mregister_hook\u001b[0m\u001b[0;34m(\u001b[0m\u001b[0mself\u001b[0m\u001b[0;34m,\u001b[0m \u001b[0mhook\u001b[0m\u001b[0;34m)\u001b[0m\u001b[0;34m:\u001b[0m\u001b[0;34m\u001b[0m\u001b[0;34m\u001b[0m\u001b[0m\n",
            "\u001b[0;32m/usr/local/lib/python3.7/dist-packages/torch/autograd/__init__.py\u001b[0m in \u001b[0;36mbackward\u001b[0;34m(tensors, grad_tensors, retain_graph, create_graph, grad_variables, inputs)\u001b[0m\n\u001b[1;32m    145\u001b[0m     Variable._execution_engine.run_backward(\n\u001b[1;32m    146\u001b[0m         \u001b[0mtensors\u001b[0m\u001b[0;34m,\u001b[0m \u001b[0mgrad_tensors_\u001b[0m\u001b[0;34m,\u001b[0m \u001b[0mretain_graph\u001b[0m\u001b[0;34m,\u001b[0m \u001b[0mcreate_graph\u001b[0m\u001b[0;34m,\u001b[0m \u001b[0minputs\u001b[0m\u001b[0;34m,\u001b[0m\u001b[0;34m\u001b[0m\u001b[0;34m\u001b[0m\u001b[0m\n\u001b[0;32m--> 147\u001b[0;31m         allow_unreachable=True, accumulate_grad=True)  # allow_unreachable flag\n\u001b[0m\u001b[1;32m    148\u001b[0m \u001b[0;34m\u001b[0m\u001b[0m\n\u001b[1;32m    149\u001b[0m \u001b[0;34m\u001b[0m\u001b[0m\n",
            "\u001b[0;31mKeyboardInterrupt\u001b[0m: "
          ]
        }
      ]
    },
    {
      "cell_type": "code",
      "metadata": {
        "id": "BSL5YMnw_fiO",
        "colab": {
          "base_uri": "https://localhost:8080/",
          "height": 769
        },
        "outputId": "eb1724fb-8890-480b-8268-8c7c1d268218"
      },
      "source": [
        "plt.figure(figsize=(20,13))\n",
        "\n",
        "plt.plot(train_loss_history, label='Training loss')\n",
        "plt.plot(val_loss_history, label='Validation loss')\n",
        "plt.xlabel('Epoch')\n",
        "plt.ylabel('Loss')\n",
        "plt.legend()\n",
        "plt.show()"
      ],
      "execution_count": null,
      "outputs": [
        {
          "output_type": "display_data",
          "data": {
            "image/png": "[encoded data removed]",
            "text/plain": [
              "<Figure size 1440x936 with 1 Axes>"
            ]
          },
          "metadata": {
            "tags": [],
            "needs_background": "light"
          }
        }
      ]
    },
    {
      "cell_type": "code",
      "metadata": {
        "id": "VLXbzqCZ_nni"
      },
      "source": [
        "pickle.dump(embeddings, open(path + \"embeddings.p\", \"wb\" ) )"
      ],
      "execution_count": null,
      "outputs": []
    },
    {
      "cell_type": "markdown",
      "metadata": {
        "id": "WtjmBD9_Cw2E"
      },
      "source": [
        "# Classification"
      ]
    },
    {
      "cell_type": "code",
      "metadata": {
        "id": "auSZsCcjiqOo"
      },
      "source": [
        "target = pd.read_csv(path + \"train_target.csv\")  "
      ],
      "execution_count": null,
      "outputs": []
    },
    {
      "cell_type": "code",
      "metadata": {
        "id": "q6E5HXGe-WOo"
      },
      "source": [
        "target = pd.read_csv(path + \"train_target.csv\")  \n",
        "client_target_dict = pd.Series(target.bins.values, index=target.client_id).to_dict()\n",
        "age_target = np.vectorize(client_target_dict.get)(train_dataset.clients)\n",
        "\n",
        "\n",
        "predict_dataloader = DataLoader(train_dataset, batch_size=BATCH_SIZE, sampler=SequentialSampler(train_dataset))\n",
        "\n",
        "pred = np.zeros(shape=(len(train_dataset), SEQUENCES_PER_CLIENT, RNN_HIDDEN_STATE_DIMENSIONS))\n",
        "client_targets = np.zeros(shape=len(train_dataset))\n",
        "age_targets = np.zeros(shape=len(train_dataset))\n",
        "\n",
        "encoder.eval()\n",
        "for batch_idx, (sequences, labels) in enumerate(predict_dataloader):\n",
        "    numerical = sequences[:,:,:,np.logical_not(categorical_mask)].to(device)\n",
        "    categorical = sequences[:,:,:,categorical_mask].to(device)\n",
        "    labels = labels.numpy()\n",
        "\n",
        "    with torch.no_grad():\n",
        "        embeddings = encoder(numerical.float(), categorical.int()).to(device)\n",
        "    embeddings = embeddings.view(-1, SEQUENCES_PER_CLIENT, RNN_HIDDEN_STATE_DIMENSIONS)\n",
        "\n",
        "    pred[batch_idx * BATCH_SIZE : (batch_idx + 1) * BATCH_SIZE, :, :] = embeddings.cpu().numpy()\n",
        "    client_targets[batch_idx * BATCH_SIZE : (batch_idx + 1) * BATCH_SIZE] = labels\n",
        "    age_targets[batch_idx * BATCH_SIZE : (batch_idx + 1) * BATCH_SIZE] = np.vectorize(client_target_dict.get)(labels)\n",
        "\n",
        "\n",
        "train_pred = pred.reshape(-1, RNN_HIDDEN_STATE_DIMENSIONS)\n",
        "train_client_targets = np.repeat(client_targets, SEQUENCES_PER_CLIENT)\n",
        "train_age_targets = np.repeat(age_targets, SEQUENCES_PER_CLIENT)"
      ],
      "execution_count": null,
      "outputs": []
    },
    {
      "cell_type": "code",
      "metadata": {
        "id": "Ph7hlDEVAY8k"
      },
      "source": [
        "age_target = np.vectorize(client_target_dict.get)(test_dataset.clients)\n",
        "\n",
        "predict_dataloader = DataLoader(test_dataset, batch_size=BATCH_SIZE, sampler=SequentialSampler(test_dataset))\n",
        "\n",
        "pred = np.zeros(shape=(len(test_dataset), SEQUENCES_PER_CLIENT, RNN_HIDDEN_STATE_DIMENSIONS))\n",
        "client_targets = np.zeros(shape=len(test_dataset))\n",
        "age_targets = np.zeros(shape=len(test_dataset))\n",
        "\n",
        "encoder.eval()\n",
        "for batch_idx, (sequences, labels) in enumerate(predict_dataloader):\n",
        "    numerical = sequences[:,:,:,np.logical_not(categorical_mask)].to(device)\n",
        "    categorical = sequences[:,:,:,categorical_mask].to(device)\n",
        "    labels = labels.numpy()\n",
        "\n",
        "    with torch.no_grad():\n",
        "        embeddings = encoder(numerical.float(), categorical.int()).to(device)\n",
        "    embeddings = embeddings.view(-1, SEQUENCES_PER_CLIENT, RNN_HIDDEN_STATE_DIMENSIONS)\n",
        "\n",
        "    pred[batch_idx * BATCH_SIZE : (batch_idx + 1) * BATCH_SIZE, :, :] = embeddings.cpu().numpy()\n",
        "    client_targets[batch_idx * BATCH_SIZE : (batch_idx + 1) * BATCH_SIZE] = labels\n",
        "    age_targets[batch_idx * BATCH_SIZE : (batch_idx + 1) * BATCH_SIZE] = np.vectorize(client_target_dict.get)(labels)\n",
        "\n",
        "\n",
        "test_pred = pred.reshape(-1, RNN_HIDDEN_STATE_DIMENSIONS)\n",
        "test_client_targets = np.repeat(client_targets, SEQUENCES_PER_CLIENT)\n",
        "test_age_targets = np.repeat(age_targets, SEQUENCES_PER_CLIENT)"
      ],
      "execution_count": null,
      "outputs": []
    },
    {
      "cell_type": "code",
      "metadata": {
        "id": "Ja_5lyQCBh_R"
      },
      "source": [
        "pred = np.concatenate([train_pred, test_pred])\n",
        "client_targets = np.concatenate([train_client_targets, test_client_targets])\n",
        "age_targets = np.concatenate([train_age_targets, test_age_targets])\n",
        "\n",
        "pickle.dump(pred, open(path + \"pred.p\", \"wb\" ) )\n",
        "pickle.dump(client_targets, open(path + \"client_targets.p\", \"wb\" ) )\n",
        "pickle.dump(age_targets, open(path + \"age_targets.p\", \"wb\" ) )"
      ],
      "execution_count": null,
      "outputs": []
    },
    {
      "cell_type": "code",
      "metadata": {
        "id": "S2HCMtXFiVzV"
      },
      "source": [
        "pred = pickle.load(open(path + \"pred.p\", \"rb\" ))\n",
        "client_targets = pickle.load(open(path + \"client_targets.p\", \"rb\" ))\n",
        "age_targets = pickle.load(open(path + \"age_targets.p\", \"rb\" ))"
      ],
      "execution_count": null,
      "outputs": []
    },
    {
      "cell_type": "code",
      "metadata": {
        "id": "0Xz50CYWC0na"
      },
      "source": [
        "X = torch.Tensor(pred)\n",
        "y = torch.Tensor(age_targets)\n",
        "\n",
        "classifier_dataset = TensorDataset(X, y)\n",
        "train_classifier_dataset, test_classifier_dataset = random_split(classifier_dataset, [int(len(classifier_dataset) * 0.8), len(classifier_dataset) - (int(len(classifier_dataset) * 0.8))])\n",
        "train_classifier_dataloader = DataLoader(train_classifier_dataset, batch_size=CLASSIFIER_BATCH_SIZE, shuffle=True)\n",
        "test_classifier_dataloader = DataLoader(test_classifier_dataset, batch_size=CLASSIFIER_BATCH_SIZE, shuffle=True)\n",
        "\n",
        "num_classes = target['bins'].nunique()\n",
        "\n",
        "classifier = nn.Sequential(\n",
        "    nn.Linear(RNN_HIDDEN_STATE_DIMENSIONS, CLASSIFIER_LAYER1_DIM),\n",
        "    nn.Sigmoid(),\n",
        "    nn.BatchNorm1d(CLASSIFIER_LAYER1_DIM),\n",
        "    nn.Linear(CLASSIFIER_LAYER1_DIM, CLASSIFIER_LAYER2_DIM),\n",
        "    nn.Sigmoid(),\n",
        "    nn.BatchNorm1d(CLASSIFIER_LAYER2_DIM),\n",
        "    nn.Linear(CLASSIFIER_LAYER2_DIM, num_classes),\n",
        ")\n",
        "classifier.to(device)\n",
        "\n",
        "optimizer = torch.optim.AdamW(classifier.parameters(), lr=CLASSIFIER_LEARNING_RATE)\n",
        "\n",
        "loss_func = nn.CrossEntropyLoss()"
      ],
      "execution_count": null,
      "outputs": []
    },
    {
      "cell_type": "code",
      "metadata": {
        "colab": {
          "base_uri": "https://localhost:8080/"
        },
        "id": "TV5jvDMrF2pY",
        "outputId": "7de30c03-dd0f-4e60-db63-2322458a3049"
      },
      "source": [
        "train_loss_history = list()\n",
        "val_loss_history = list()\n",
        "\n",
        "train_accuracy_history = list()\n",
        "val_accuracy_history = list()\n",
        "\n",
        "\n",
        "for epoch in tqdm(range(CLASSIFIER_EPOCHS)):\n",
        "\n",
        "    classifier.train()\n",
        "    cur_losses = list()\n",
        "    cur_accuracy = list()\n",
        "\n",
        "    for batch_idx, (sequences, labels) in enumerate(train_classifier_dataloader):\n",
        "\n",
        "        sequences = sequences.to(device)\n",
        "        labels = labels.long().to(device)\n",
        "        \n",
        "        predictions = classifier(sequences).to(device)\n",
        "        train_loss = loss_func(predictions, labels)\n",
        "\n",
        "        train_loss.backward()\n",
        "        optimizer.step()\n",
        "        optimizer.zero_grad()\n",
        "        cur_losses.append(train_loss.item())\n",
        "        cur_accuracy.append(accuracy_score(torch.argmax(predictions.cpu(), dim=1), labels.cpu()))\n",
        "\n",
        "    train_loss_history.append(np.mean(cur_losses))\n",
        "    train_accuracy_history.append(np.mean(cur_accuracy))\n",
        "\n",
        "    classifier.eval()\n",
        "    cur_losses = list()\n",
        "    cur_accuracy = list()\n",
        "\n",
        "    for batch_idx, (sequences, labels) in enumerate(test_classifier_dataloader):\n",
        " \n",
        "        sequences = sequences.to(device)\n",
        "        labels = labels.long().to(device)\n",
        "        with torch.no_grad():\n",
        "            predictions = classifier(sequences).to(device)\n",
        "            test_loss = loss_func(predictions, labels)\n",
        "\n",
        "            cur_losses.append(test_loss.item())\n",
        "            cur_accuracy.append(accuracy_score(torch.argmax(predictions.cpu(), dim=1), labels.cpu()))\n",
        "\n",
        "    \n",
        "    val_loss_history.append(np.mean(cur_losses))\n",
        "    val_accuracy_history.append(np.mean(cur_accuracy))\n",
        "\n",
        "    print(\"\\nEpoch {}\\n Train Loss = {}\\n Train Accuracy = {}\\n Validation Loss = {}\\n Validation Accuracy = {}\".format(\n",
        "        epoch, train_loss_history[-1], train_accuracy_history[-1], val_loss_history[-1], val_accuracy_history[-1]))\n",
        "\n",
        "    torch.save({\n",
        "            'epoch': epoch,\n",
        "            'model_state_dict': classifier.state_dict(),\n",
        "            'optimizer_state_dict': optimizer.state_dict(),\n",
        "            'loss': train_loss_history[-1],\n",
        "            }, CHECKPOINT_PATH)"
      ],
      "execution_count": null,
      "outputs": [
        {
          "output_type": "stream",
          "text": [
            "\n",
            "  0%|          | 0/64 [00:00<?, ?it/s]\u001b[A\n",
            "  2%|▏         | 1/64 [00:04<04:25,  4.21s/it]\u001b[A"
          ],
          "name": "stderr"
        },
        {
          "output_type": "stream",
          "text": [
            "\n",
            "Epoch 0\n",
            " Train Loss = 0.9970711440419846\n",
            " Train Accuracy = 0.5490946495202559\n",
            " Validation Loss = 0.9826903490310019\n",
            " Validation Accuracy = 0.5544824911347519\n"
          ],
          "name": "stdout"
        },
        {
          "output_type": "stream",
          "text": [
            "\n",
            "  3%|▎         | 2/64 [00:08<04:18,  4.18s/it]\u001b[A"
          ],
          "name": "stderr"
        },
        {
          "output_type": "stream",
          "text": [
            "\n",
            "Epoch 1\n",
            " Train Loss = 0.9783536301874148\n",
            " Train Accuracy = 0.5583522121535182\n",
            " Validation Loss = 0.9799205031800777\n",
            " Validation Accuracy = 0.5568484042553191\n"
          ],
          "name": "stdout"
        },
        {
          "output_type": "stream",
          "text": [
            "\n",
            "  5%|▍         | 3/64 [00:12<04:14,  4.18s/it]\u001b[A"
          ],
          "name": "stderr"
        },
        {
          "output_type": "stream",
          "text": [
            "\n",
            "Epoch 2\n",
            " Train Loss = 0.9735069977703379\n",
            " Train Accuracy = 0.5607051239339019\n",
            " Validation Loss = 0.9763268445400481\n",
            " Validation Accuracy = 0.5564605496453902\n"
          ],
          "name": "stdout"
        },
        {
          "output_type": "stream",
          "text": [
            "\n",
            "  6%|▋         | 4/64 [00:16<04:08,  4.14s/it]\u001b[A"
          ],
          "name": "stderr"
        },
        {
          "output_type": "stream",
          "text": [
            "\n",
            "Epoch 3\n",
            " Train Loss = 0.9705911586279554\n",
            " Train Accuracy = 0.5623709021855011\n",
            " Validation Loss = 0.9753141342325413\n",
            " Validation Accuracy = 0.558771054964539\n"
          ],
          "name": "stdout"
        },
        {
          "output_type": "stream",
          "text": [
            "\n",
            "  8%|▊         | 5/64 [00:20<04:03,  4.13s/it]\u001b[A"
          ],
          "name": "stderr"
        },
        {
          "output_type": "stream",
          "text": [
            "\n",
            "Epoch 4\n",
            " Train Loss = 0.9683480039080069\n",
            " Train Accuracy = 0.5636618803304904\n",
            " Validation Loss = 0.9741492717824084\n",
            " Validation Accuracy = 0.5589926861702128\n"
          ],
          "name": "stdout"
        },
        {
          "output_type": "stream",
          "text": [
            "\n",
            "  9%|▉         | 6/64 [00:24<03:59,  4.13s/it]\u001b[A"
          ],
          "name": "stderr"
        },
        {
          "output_type": "stream",
          "text": [
            "\n",
            "Epoch 5\n",
            " Train Loss = 0.9666410654719705\n",
            " Train Accuracy = 0.5637326759061834\n",
            " Validation Loss = 0.971271393907831\n",
            " Validation Accuracy = 0.5610926418439716\n"
          ],
          "name": "stdout"
        },
        {
          "output_type": "stream",
          "text": [
            "\n",
            " 11%|█         | 7/64 [00:28<03:54,  4.11s/it]\u001b[A"
          ],
          "name": "stderr"
        },
        {
          "output_type": "stream",
          "text": [
            "\n",
            "Epoch 6\n",
            " Train Loss = 0.964434119620557\n",
            " Train Accuracy = 0.566431236673774\n",
            " Validation Loss = 0.9701024717472969\n",
            " Validation Accuracy = 0.560832225177305\n"
          ],
          "name": "stdout"
        },
        {
          "output_type": "stream",
          "text": [
            "\n",
            " 12%|█▎        | 8/64 [00:32<03:50,  4.11s/it]\u001b[A"
          ],
          "name": "stderr"
        },
        {
          "output_type": "stream",
          "text": [
            "\n",
            "Epoch 7\n",
            " Train Loss = 0.9622667404507269\n",
            " Train Accuracy = 0.5674640191897654\n",
            " Validation Loss = 0.9671857582761886\n",
            " Validation Accuracy = 0.5626717641843971\n"
          ],
          "name": "stdout"
        },
        {
          "output_type": "stream",
          "text": [
            "\n",
            " 14%|█▍        | 9/64 [00:37<03:45,  4.10s/it]\u001b[A"
          ],
          "name": "stderr"
        },
        {
          "output_type": "stream",
          "text": [
            "\n",
            "Epoch 8\n",
            " Train Loss = 0.9606235435903708\n",
            " Train Accuracy = 0.5685551039445629\n",
            " Validation Loss = 0.9653246727395565\n",
            " Validation Accuracy = 0.5634807180851064\n"
          ],
          "name": "stdout"
        },
        {
          "output_type": "stream",
          "text": [
            "\n",
            " 16%|█▌        | 10/64 [00:41<03:42,  4.13s/it]\u001b[A"
          ],
          "name": "stderr"
        },
        {
          "output_type": "stream",
          "text": [
            "\n",
            "Epoch 9\n",
            " Train Loss = 0.9590738432239622\n",
            " Train Accuracy = 0.5686217350746269\n",
            " Validation Loss = 0.9639250856764773\n",
            " Validation Accuracy = 0.5651540336879434\n"
          ],
          "name": "stdout"
        },
        {
          "output_type": "stream",
          "text": [
            "\n",
            " 17%|█▋        | 11/64 [00:45<03:38,  4.12s/it]\u001b[A"
          ],
          "name": "stderr"
        },
        {
          "output_type": "stream",
          "text": [
            "\n",
            "Epoch 10\n",
            " Train Loss = 0.9576277146969777\n",
            " Train Accuracy = 0.5697794509594882\n",
            " Validation Loss = 0.9637178532620694\n",
            " Validation Accuracy = 0.5636303191489361\n"
          ],
          "name": "stdout"
        },
        {
          "output_type": "stream",
          "text": [
            "\n",
            " 19%|█▉        | 12/64 [00:49<03:36,  4.16s/it]\u001b[A"
          ],
          "name": "stderr"
        },
        {
          "output_type": "stream",
          "text": [
            "\n",
            "Epoch 11\n",
            " Train Loss = 0.9556339644928222\n",
            " Train Accuracy = 0.5713661047441365\n",
            " Validation Loss = 0.9622280661095964\n",
            " Validation Accuracy = 0.5647717198581561\n"
          ],
          "name": "stdout"
        },
        {
          "output_type": "stream",
          "text": [
            "\n",
            " 20%|██        | 13/64 [00:53<03:32,  4.18s/it]\u001b[A"
          ],
          "name": "stderr"
        },
        {
          "output_type": "stream",
          "text": [
            "\n",
            "Epoch 12\n",
            " Train Loss = 0.954130106833952\n",
            " Train Accuracy = 0.5718741671108742\n",
            " Validation Loss = 0.960937100014788\n",
            " Validation Accuracy = 0.5666666666666668\n"
          ],
          "name": "stdout"
        },
        {
          "output_type": "stream",
          "text": [
            "\n",
            " 22%|██▏       | 14/64 [00:58<03:29,  4.20s/it]\u001b[A"
          ],
          "name": "stderr"
        },
        {
          "output_type": "stream",
          "text": [
            "\n",
            "Epoch 13\n",
            " Train Loss = 0.9524477946478674\n",
            " Train Accuracy = 0.5728236607142857\n",
            " Validation Loss = 0.9605805303188081\n",
            " Validation Accuracy = 0.5672761524822694\n"
          ],
          "name": "stdout"
        },
        {
          "output_type": "stream",
          "text": [
            "\n",
            " 23%|██▎       | 15/64 [01:02<03:24,  4.18s/it]\u001b[A"
          ],
          "name": "stderr"
        },
        {
          "output_type": "stream",
          "text": [
            "\n",
            "Epoch 14\n",
            " Train Loss = 0.9506062783920435\n",
            " Train Accuracy = 0.5739355676972282\n",
            " Validation Loss = 0.9592494733790133\n",
            " Validation Accuracy = 0.5670378989361702\n"
          ],
          "name": "stdout"
        },
        {
          "output_type": "stream",
          "text": [
            "\n",
            " 25%|██▌       | 16/64 [01:06<03:20,  4.17s/it]\u001b[A"
          ],
          "name": "stderr"
        },
        {
          "output_type": "stream",
          "text": [
            "\n",
            "Epoch 15\n",
            " Train Loss = 0.9486521716311034\n",
            " Train Accuracy = 0.5753139992004265\n",
            " Validation Loss = 0.9570856211033273\n",
            " Validation Accuracy = 0.5691600177304965\n"
          ],
          "name": "stdout"
        },
        {
          "output_type": "stream",
          "text": [
            "\n",
            " 27%|██▋       | 17/64 [01:10<03:15,  4.15s/it]\u001b[A"
          ],
          "name": "stderr"
        },
        {
          "output_type": "stream",
          "text": [
            "\n",
            "Epoch 16\n",
            " Train Loss = 0.9470953051088207\n",
            " Train Accuracy = 0.5765050306503199\n",
            " Validation Loss = 0.9567012239009776\n",
            " Validation Accuracy = 0.5671708776595744\n"
          ],
          "name": "stdout"
        },
        {
          "output_type": "stream",
          "text": [
            "\n",
            " 28%|██▊       | 18/64 [01:14<03:10,  4.14s/it]\u001b[A"
          ],
          "name": "stderr"
        },
        {
          "output_type": "stream",
          "text": [
            "\n",
            "Epoch 17\n",
            " Train Loss = 0.9448609779765611\n",
            " Train Accuracy = 0.5777418710021321\n",
            " Validation Loss = 0.9555695122860848\n",
            " Validation Accuracy = 0.5687222960992907\n"
          ],
          "name": "stdout"
        },
        {
          "output_type": "stream",
          "text": [
            "\n",
            " 30%|██▉       | 19/64 [01:18<03:06,  4.14s/it]\u001b[A"
          ],
          "name": "stderr"
        },
        {
          "output_type": "stream",
          "text": [
            "\n",
            "Epoch 18\n",
            " Train Loss = 0.9435734826364497\n",
            " Train Accuracy = 0.5788246268656716\n",
            " Validation Loss = 0.9544270515441895\n",
            " Validation Accuracy = 0.5698747783687944\n"
          ],
          "name": "stdout"
        },
        {
          "output_type": "stream",
          "text": [
            "\n",
            " 31%|███▏      | 20/64 [01:22<03:02,  4.14s/it]\u001b[A"
          ],
          "name": "stderr"
        },
        {
          "output_type": "stream",
          "text": [
            "\n",
            "Epoch 19\n",
            " Train Loss = 0.9414249157219299\n",
            " Train Accuracy = 0.5795200892857143\n",
            " Validation Loss = 0.9516712315539096\n",
            " Validation Accuracy = 0.5720356826241135\n"
          ],
          "name": "stdout"
        },
        {
          "output_type": "stream",
          "text": [
            "\n",
            " 33%|███▎      | 21/64 [01:26<02:57,  4.14s/it]\u001b[A"
          ],
          "name": "stderr"
        },
        {
          "output_type": "stream",
          "text": [
            "\n",
            "Epoch 20\n",
            " Train Loss = 0.9388486995244585\n",
            " Train Accuracy = 0.5812649920042644\n",
            " Validation Loss = 0.9524404322847407\n",
            " Validation Accuracy = 0.5720578457446809\n"
          ],
          "name": "stdout"
        },
        {
          "output_type": "stream",
          "text": [
            "\n",
            " 34%|███▍      | 22/64 [01:31<02:53,  4.12s/it]\u001b[A"
          ],
          "name": "stderr"
        },
        {
          "output_type": "stream",
          "text": [
            "\n",
            "Epoch 21\n",
            " Train Loss = 0.9368101805766255\n",
            " Train Accuracy = 0.5833138992537313\n",
            " Validation Loss = 0.950134358000248\n",
            " Validation Accuracy = 0.572905585106383\n"
          ],
          "name": "stdout"
        },
        {
          "output_type": "stream",
          "text": [
            "\n",
            " 36%|███▌      | 23/64 [01:35<02:49,  4.13s/it]\u001b[A"
          ],
          "name": "stderr"
        },
        {
          "output_type": "stream",
          "text": [
            "\n",
            "Epoch 22\n",
            " Train Loss = 0.93454881695542\n",
            " Train Accuracy = 0.5845798907249466\n",
            " Validation Loss = 0.9506814401200477\n",
            " Validation Accuracy = 0.571985815602837\n"
          ],
          "name": "stdout"
        },
        {
          "output_type": "stream",
          "text": [
            "\n",
            " 38%|███▊      | 24/64 [01:39<02:44,  4.12s/it]\u001b[A"
          ],
          "name": "stderr"
        },
        {
          "output_type": "stream",
          "text": [
            "\n",
            "Epoch 23\n",
            " Train Loss = 0.9324393163738983\n",
            " Train Accuracy = 0.5864872068230277\n",
            " Validation Loss = 0.9494346519733997\n",
            " Validation Accuracy = 0.5724567819148936\n"
          ],
          "name": "stdout"
        },
        {
          "output_type": "stream",
          "text": [
            "\n",
            " 39%|███▉      | 25/64 [01:43<02:40,  4.13s/it]\u001b[A"
          ],
          "name": "stderr"
        },
        {
          "output_type": "stream",
          "text": [
            "\n",
            "Epoch 24\n",
            " Train Loss = 0.9302325678278388\n",
            " Train Accuracy = 0.5864289045842217\n",
            " Validation Loss = 0.9462512794961321\n",
            " Validation Accuracy = 0.5749058067375886\n"
          ],
          "name": "stdout"
        },
        {
          "output_type": "stream",
          "text": [
            "\n",
            " 41%|████      | 26/64 [01:47<02:36,  4.11s/it]\u001b[A"
          ],
          "name": "stderr"
        },
        {
          "output_type": "stream",
          "text": [
            "\n",
            "Epoch 25\n",
            " Train Loss = 0.9273626506964027\n",
            " Train Accuracy = 0.5887693230277186\n",
            " Validation Loss = 0.9456034962167131\n",
            " Validation Accuracy = 0.5756316489361702\n"
          ],
          "name": "stdout"
        },
        {
          "output_type": "stream",
          "text": [
            "\n",
            " 42%|████▏     | 27/64 [01:51<02:31,  4.11s/it]\u001b[A"
          ],
          "name": "stderr"
        },
        {
          "output_type": "stream",
          "text": [
            "\n",
            "Epoch 26\n",
            " Train Loss = 0.9252395230823997\n",
            " Train Accuracy = 0.5891399586886994\n",
            " Validation Loss = 0.9440203019913207\n",
            " Validation Accuracy = 0.5752327127659574\n"
          ],
          "name": "stdout"
        },
        {
          "output_type": "stream",
          "text": [
            "\n",
            " 44%|████▍     | 28/64 [01:55<02:28,  4.12s/it]\u001b[A"
          ],
          "name": "stderr"
        },
        {
          "output_type": "stream",
          "text": [
            "\n",
            "Epoch 27\n",
            " Train Loss = 0.9230089279126003\n",
            " Train Accuracy = 0.5925964485607675\n",
            " Validation Loss = 0.9426072310894094\n",
            " Validation Accuracy = 0.5758366578014184\n"
          ],
          "name": "stdout"
        },
        {
          "output_type": "stream",
          "text": [
            "\n",
            " 45%|████▌     | 29/64 [01:59<02:23,  4.09s/it]\u001b[A"
          ],
          "name": "stderr"
        },
        {
          "output_type": "stream",
          "text": [
            "\n",
            "Epoch 28\n",
            " Train Loss = 0.9203497645443183\n",
            " Train Accuracy = 0.5935584355010661\n",
            " Validation Loss = 0.9416884883921197\n",
            " Validation Accuracy = 0.5775265957446809\n"
          ],
          "name": "stdout"
        },
        {
          "output_type": "stream",
          "text": [
            "\n",
            " 47%|████▋     | 30/64 [02:03<02:19,  4.10s/it]\u001b[A"
          ],
          "name": "stderr"
        },
        {
          "output_type": "stream",
          "text": [
            "\n",
            "Epoch 29\n",
            " Train Loss = 0.917577016582367\n",
            " Train Accuracy = 0.5953491471215352\n",
            " Validation Loss = 0.9395575069366617\n",
            " Validation Accuracy = 0.5788674645390072\n"
          ],
          "name": "stdout"
        },
        {
          "output_type": "stream",
          "text": [
            "\n",
            " 48%|████▊     | 31/64 [02:08<02:15,  4.11s/it]\u001b[A"
          ],
          "name": "stderr"
        },
        {
          "output_type": "stream",
          "text": [
            "\n",
            "Epoch 30\n",
            " Train Loss = 0.9152195289699253\n",
            " Train Accuracy = 0.5966068097014925\n",
            " Validation Loss = 0.9393933646222379\n",
            " Validation Accuracy = 0.5778091755319149\n"
          ],
          "name": "stdout"
        },
        {
          "output_type": "stream",
          "text": [
            "\n",
            " 50%|█████     | 32/64 [02:12<02:11,  4.12s/it]\u001b[A"
          ],
          "name": "stderr"
        },
        {
          "output_type": "stream",
          "text": [
            "\n",
            "Epoch 31\n",
            " Train Loss = 0.9128011813931374\n",
            " Train Accuracy = 0.5983350546375267\n",
            " Validation Loss = 0.9364420162870529\n",
            " Validation Accuracy = 0.5810671542553192\n"
          ],
          "name": "stdout"
        },
        {
          "output_type": "stream",
          "text": [
            "\n",
            " 52%|█████▏    | 33/64 [02:16<02:07,  4.11s/it]\u001b[A"
          ],
          "name": "stderr"
        },
        {
          "output_type": "stream",
          "text": [
            "\n",
            "Epoch 32\n",
            " Train Loss = 0.9098432382413828\n",
            " Train Accuracy = 0.5997384728144989\n",
            " Validation Loss = 0.9352703023464122\n",
            " Validation Accuracy = 0.5802360372340426\n"
          ],
          "name": "stdout"
        },
        {
          "output_type": "stream",
          "text": [
            "\n",
            " 53%|█████▎    | 34/64 [02:20<02:03,  4.12s/it]\u001b[A"
          ],
          "name": "stderr"
        },
        {
          "output_type": "stream",
          "text": [
            "\n",
            "Epoch 33\n",
            " Train Loss = 0.9070446551608633\n",
            " Train Accuracy = 0.6005588686034116\n",
            " Validation Loss = 0.9347291061218749\n",
            " Validation Accuracy = 0.5834164450354609\n"
          ],
          "name": "stdout"
        },
        {
          "output_type": "stream",
          "text": [
            "\n",
            " 55%|█████▍    | 35/64 [02:24<01:59,  4.11s/it]\u001b[A"
          ],
          "name": "stderr"
        },
        {
          "output_type": "stream",
          "text": [
            "\n",
            "Epoch 34\n",
            " Train Loss = 0.9045837956196718\n",
            " Train Accuracy = 0.6031907982409381\n",
            " Validation Loss = 0.9339395698080671\n",
            " Validation Accuracy = 0.5810449911347518\n"
          ],
          "name": "stdout"
        },
        {
          "output_type": "stream",
          "text": [
            "\n",
            " 56%|█████▋    | 36/64 [02:28<01:55,  4.11s/it]\u001b[A"
          ],
          "name": "stderr"
        },
        {
          "output_type": "stream",
          "text": [
            "\n",
            "Epoch 35\n",
            " Train Loss = 0.9020774999279966\n",
            " Train Accuracy = 0.6051439232409381\n",
            " Validation Loss = 0.9341913831994889\n",
            " Validation Accuracy = 0.5826628989361702\n"
          ],
          "name": "stdout"
        },
        {
          "output_type": "stream",
          "text": [
            "\n",
            " 58%|█████▊    | 37/64 [02:32<01:50,  4.09s/it]\u001b[A"
          ],
          "name": "stderr"
        },
        {
          "output_type": "stream",
          "text": [
            "\n",
            "Epoch 36\n",
            " Train Loss = 0.8986579362771658\n",
            " Train Accuracy = 0.6067222481343284\n",
            " Validation Loss = 0.9312961806642248\n",
            " Validation Accuracy = 0.582673980496454\n"
          ],
          "name": "stdout"
        },
        {
          "output_type": "stream",
          "text": [
            "\n",
            " 59%|█████▉    | 38/64 [02:36<01:46,  4.11s/it]\u001b[A"
          ],
          "name": "stderr"
        },
        {
          "output_type": "stream",
          "text": [
            "\n",
            "Epoch 37\n",
            " Train Loss = 0.8969790293082499\n",
            " Train Accuracy = 0.6080173907249466\n",
            " Validation Loss = 0.930990628485984\n",
            " Validation Accuracy = 0.584158909574468\n"
          ],
          "name": "stdout"
        },
        {
          "output_type": "stream",
          "text": [
            "\n",
            " 61%|██████    | 39/64 [02:40<01:43,  4.13s/it]\u001b[A"
          ],
          "name": "stderr"
        },
        {
          "output_type": "stream",
          "text": [
            "\n",
            "Epoch 38\n",
            " Train Loss = 0.8935534012978519\n",
            " Train Accuracy = 0.609329191098081\n",
            " Validation Loss = 0.9296771757146145\n",
            " Validation Accuracy = 0.584513519503546\n"
          ],
          "name": "stdout"
        },
        {
          "output_type": "stream",
          "text": [
            "\n",
            " 62%|██████▎   | 40/64 [02:45<01:38,  4.12s/it]\u001b[A"
          ],
          "name": "stderr"
        },
        {
          "output_type": "stream",
          "text": [
            "\n",
            "Epoch 39\n",
            " Train Loss = 0.8912722634227037\n",
            " Train Accuracy = 0.6117987073560768\n",
            " Validation Loss = 0.9288286424697714\n",
            " Validation Accuracy = 0.5858543882978723\n"
          ],
          "name": "stdout"
        },
        {
          "output_type": "stream",
          "text": [
            "\n",
            " 64%|██████▍   | 41/64 [02:49<01:34,  4.12s/it]\u001b[A"
          ],
          "name": "stderr"
        },
        {
          "output_type": "stream",
          "text": [
            "\n",
            "Epoch 40\n",
            " Train Loss = 0.8880386041171515\n",
            " Train Accuracy = 0.6123275919509595\n",
            " Validation Loss = 0.9278252150150056\n",
            " Validation Accuracy = 0.5845910904255319\n"
          ],
          "name": "stdout"
        },
        {
          "output_type": "stream",
          "text": [
            "\n",
            " 66%|██████▌   | 42/64 [02:53<01:30,  4.09s/it]\u001b[A"
          ],
          "name": "stderr"
        },
        {
          "output_type": "stream",
          "text": [
            "\n",
            "Epoch 41\n",
            " Train Loss = 0.8855346735479481\n",
            " Train Accuracy = 0.6150844549573561\n",
            " Validation Loss = 0.9268950619596116\n",
            " Validation Accuracy = 0.5861979166666668\n"
          ],
          "name": "stdout"
        },
        {
          "output_type": "stream",
          "text": [
            "\n",
            " 67%|██████▋   | 43/64 [02:57<01:26,  4.10s/it]\u001b[A"
          ],
          "name": "stderr"
        },
        {
          "output_type": "stream",
          "text": [
            "\n",
            "Epoch 42\n",
            " Train Loss = 0.8823390368586664\n",
            " Train Accuracy = 0.6162338419509595\n",
            " Validation Loss = 0.9270204361448897\n",
            " Validation Accuracy = 0.5864029255319149\n"
          ],
          "name": "stdout"
        },
        {
          "output_type": "stream",
          "text": [
            "\n",
            " 69%|██████▉   | 44/64 [03:01<01:21,  4.07s/it]\u001b[A"
          ],
          "name": "stderr"
        },
        {
          "output_type": "stream",
          "text": [
            "\n",
            "Epoch 43\n",
            " Train Loss = 0.879906302258404\n",
            " Train Accuracy = 0.6180828558102346\n",
            " Validation Loss = 0.924788676931503\n",
            " Validation Accuracy = 0.588530585106383\n"
          ],
          "name": "stdout"
        },
        {
          "output_type": "stream",
          "text": [
            "\n",
            " 70%|███████   | 45/64 [03:05<01:17,  4.08s/it]\u001b[A"
          ],
          "name": "stderr"
        },
        {
          "output_type": "stream",
          "text": [
            "\n",
            "Epoch 44\n",
            " Train Loss = 0.8773292934716638\n",
            " Train Accuracy = 0.6195820562366737\n",
            " Validation Loss = 0.9254269186486589\n",
            " Validation Accuracy = 0.5875554078014184\n"
          ],
          "name": "stdout"
        },
        {
          "output_type": "stream",
          "text": [
            "\n",
            " 72%|███████▏  | 46/64 [03:09<01:13,  4.08s/it]\u001b[A"
          ],
          "name": "stderr"
        },
        {
          "output_type": "stream",
          "text": [
            "\n",
            "Epoch 45\n",
            " Train Loss = 0.8740107171825254\n",
            " Train Accuracy = 0.6215143590085288\n",
            " Validation Loss = 0.9235157370567322\n",
            " Validation Accuracy = 0.5888076241134752\n"
          ],
          "name": "stdout"
        },
        {
          "output_type": "stream",
          "text": [
            "\n",
            " 73%|███████▎  | 47/64 [03:13<01:09,  4.09s/it]\u001b[A"
          ],
          "name": "stderr"
        },
        {
          "output_type": "stream",
          "text": [
            "\n",
            "Epoch 46\n",
            " Train Loss = 0.8715973326138088\n",
            " Train Accuracy = 0.6225596348614072\n",
            " Validation Loss = 0.9234865667972159\n",
            " Validation Accuracy = 0.5892176418439715\n"
          ],
          "name": "stdout"
        },
        {
          "output_type": "stream",
          "text": [
            "\n",
            " 75%|███████▌  | 48/64 [03:17<01:05,  4.07s/it]\u001b[A"
          ],
          "name": "stderr"
        },
        {
          "output_type": "stream",
          "text": [
            "\n",
            "Epoch 47\n",
            " Train Loss = 0.8683869513367285\n",
            " Train Accuracy = 0.6234799773454158\n",
            " Validation Loss = 0.9213203962813032\n",
            " Validation Accuracy = 0.5887799202127659\n"
          ],
          "name": "stdout"
        },
        {
          "output_type": "stream",
          "text": [
            "\n",
            " 77%|███████▋  | 49/64 [03:21<01:01,  4.08s/it]\u001b[A"
          ],
          "name": "stderr"
        },
        {
          "output_type": "stream",
          "text": [
            "\n",
            "Epoch 48\n",
            " Train Loss = 0.8660714117957077\n",
            " Train Accuracy = 0.6258120668976546\n",
            " Validation Loss = 0.9234385130253244\n",
            " Validation Accuracy = 0.5908909574468085\n"
          ],
          "name": "stdout"
        },
        {
          "output_type": "stream",
          "text": [
            "\n",
            " 78%|███████▊  | 50/64 [03:25<00:57,  4.11s/it]\u001b[A"
          ],
          "name": "stderr"
        },
        {
          "output_type": "stream",
          "text": [
            "\n",
            "Epoch 49\n",
            " Train Loss = 0.8630637382266364\n",
            " Train Accuracy = 0.6272904450959488\n",
            " Validation Loss = 0.9191175422769912\n",
            " Validation Accuracy = 0.5939771719858157\n"
          ],
          "name": "stdout"
        },
        {
          "output_type": "stream",
          "text": [
            "\n",
            " 80%|███████▉  | 51/64 [03:30<00:53,  4.10s/it]\u001b[A"
          ],
          "name": "stderr"
        },
        {
          "output_type": "stream",
          "text": [
            "\n",
            "Epoch 50\n",
            " Train Loss = 0.8605625279295419\n",
            " Train Accuracy = 0.6281982942430704\n",
            " Validation Loss = 0.9216390726414133\n",
            " Validation Accuracy = 0.5892952127659574\n"
          ],
          "name": "stdout"
        },
        {
          "output_type": "stream",
          "text": [
            "\n",
            " 81%|████████▏ | 52/64 [03:34<00:49,  4.10s/it]\u001b[A"
          ],
          "name": "stderr"
        },
        {
          "output_type": "stream",
          "text": [
            "\n",
            "Epoch 51\n",
            " Train Loss = 0.8577965757867166\n",
            " Train Accuracy = 0.6307635927505331\n",
            " Validation Loss = 0.9202487818738248\n",
            " Validation Accuracy = 0.5910738031914894\n"
          ],
          "name": "stdout"
        },
        {
          "output_type": "stream",
          "text": [
            "\n",
            " 83%|████████▎ | 53/64 [03:38<00:45,  4.09s/it]\u001b[A"
          ],
          "name": "stderr"
        },
        {
          "output_type": "stream",
          "text": [
            "\n",
            "Epoch 52\n",
            " Train Loss = 0.8551635549012532\n",
            " Train Accuracy = 0.6320170908848614\n",
            " Validation Loss = 0.9168584630844441\n",
            " Validation Accuracy = 0.5941489361702128\n"
          ],
          "name": "stdout"
        },
        {
          "output_type": "stream",
          "text": [
            "\n",
            " 84%|████████▍ | 54/64 [03:42<00:40,  4.10s/it]\u001b[A"
          ],
          "name": "stderr"
        },
        {
          "output_type": "stream",
          "text": [
            "\n",
            "Epoch 53\n",
            " Train Loss = 0.852899212636419\n",
            " Train Accuracy = 0.6325126599147122\n",
            " Validation Loss = 0.9215655291334112\n",
            " Validation Accuracy = 0.5919437056737588\n"
          ],
          "name": "stdout"
        },
        {
          "output_type": "stream",
          "text": [
            "\n",
            " 86%|████████▌ | 55/64 [03:46<00:36,  4.08s/it]\u001b[A"
          ],
          "name": "stderr"
        },
        {
          "output_type": "stream",
          "text": [
            "\n",
            "Epoch 54\n",
            " Train Loss = 0.8494320307840416\n",
            " Train Accuracy = 0.6350821228678039\n",
            " Validation Loss = 0.9194414029730127\n",
            " Validation Accuracy = 0.593074024822695\n"
          ],
          "name": "stdout"
        },
        {
          "output_type": "stream",
          "text": [
            "\n",
            " 88%|████████▊ | 56/64 [03:50<00:32,  4.10s/it]\u001b[A"
          ],
          "name": "stderr"
        },
        {
          "output_type": "stream",
          "text": [
            "\n",
            "Epoch 55\n",
            " Train Loss = 0.8472020231457408\n",
            " Train Accuracy = 0.6361815365138592\n",
            " Validation Loss = 0.9167608918027675\n",
            " Validation Accuracy = 0.5949855939716311\n"
          ],
          "name": "stdout"
        },
        {
          "output_type": "stream",
          "text": [
            "\n",
            " 89%|████████▉ | 57/64 [03:54<00:28,  4.09s/it]\u001b[A"
          ],
          "name": "stderr"
        },
        {
          "output_type": "stream",
          "text": [
            "\n",
            "Epoch 56\n",
            " Train Loss = 0.8444760100546677\n",
            " Train Accuracy = 0.6377681902985075\n",
            " Validation Loss = 0.923562633230331\n",
            " Validation Accuracy = 0.5903313386524822\n"
          ],
          "name": "stdout"
        },
        {
          "output_type": "stream",
          "text": [
            "\n",
            " 91%|█████████ | 58/64 [03:58<00:24,  4.11s/it]\u001b[A"
          ],
          "name": "stderr"
        },
        {
          "output_type": "stream",
          "text": [
            "\n",
            "Epoch 57\n",
            " Train Loss = 0.8419274121586448\n",
            " Train Accuracy = 0.6387676572494669\n",
            " Validation Loss = 0.9189922487482112\n",
            " Validation Accuracy = 0.5945921985815603\n"
          ],
          "name": "stdout"
        },
        {
          "output_type": "stream",
          "text": [
            "\n",
            " 92%|█████████▏| 59/64 [04:02<00:20,  4.13s/it]\u001b[A"
          ],
          "name": "stderr"
        },
        {
          "output_type": "stream",
          "text": [
            "\n",
            "Epoch 58\n",
            " Train Loss = 0.8388812059659694\n",
            " Train Accuracy = 0.6403085021321961\n",
            " Validation Loss = 0.9180890481522743\n",
            " Validation Accuracy = 0.5937444592198582\n"
          ],
          "name": "stdout"
        },
        {
          "output_type": "stream",
          "text": [
            "\n",
            " 94%|█████████▍| 60/64 [04:06<00:16,  4.12s/it]\u001b[A"
          ],
          "name": "stderr"
        },
        {
          "output_type": "stream",
          "text": [
            "\n",
            "Epoch 59\n",
            " Train Loss = 0.8369316645522615\n",
            " Train Accuracy = 0.6420867204157783\n",
            " Validation Loss = 0.9150845563158075\n",
            " Validation Accuracy = 0.5954399379432624\n"
          ],
          "name": "stdout"
        },
        {
          "output_type": "stream",
          "text": [
            "\n",
            " 95%|█████████▌| 61/64 [04:11<00:12,  4.11s/it]\u001b[A"
          ],
          "name": "stderr"
        },
        {
          "output_type": "stream",
          "text": [
            "\n",
            "Epoch 60\n",
            " Train Loss = 0.8339442406127702\n",
            " Train Accuracy = 0.6430278851279317\n",
            " Validation Loss = 0.9153036168281068\n",
            " Validation Accuracy = 0.5951906028368795\n"
          ],
          "name": "stdout"
        },
        {
          "output_type": "stream",
          "text": [
            "\n",
            " 97%|█████████▋| 62/64 [04:15<00:08,  4.10s/it]\u001b[A"
          ],
          "name": "stderr"
        },
        {
          "output_type": "stream",
          "text": [
            "\n",
            "Epoch 61\n",
            " Train Loss = 0.8318605825209668\n",
            " Train Accuracy = 0.6440898187633263\n",
            " Validation Loss = 0.917477404563985\n",
            " Validation Accuracy = 0.5971021719858157\n"
          ],
          "name": "stdout"
        },
        {
          "output_type": "stream",
          "text": [
            "\n",
            " 98%|█████████▊| 63/64 [04:19<00:04,  4.10s/it]\u001b[A"
          ],
          "name": "stderr"
        },
        {
          "output_type": "stream",
          "text": [
            "\n",
            "Epoch 62\n",
            " Train Loss = 0.8297399488974736\n",
            " Train Accuracy = 0.6457014592217484\n",
            " Validation Loss = 0.91858265704297\n",
            " Validation Accuracy = 0.5930296985815604\n"
          ],
          "name": "stdout"
        },
        {
          "output_type": "stream",
          "text": [
            "\n",
            "100%|██████████| 64/64 [04:23<00:00,  4.11s/it]"
          ],
          "name": "stderr"
        },
        {
          "output_type": "stream",
          "text": [
            "\n",
            "Epoch 63\n",
            " Train Loss = 0.8270446111017199\n",
            " Train Accuracy = 0.646659281716418\n",
            " Validation Loss = 0.9188440855513228\n",
            " Validation Accuracy = 0.5953457446808511\n"
          ],
          "name": "stdout"
        },
        {
          "output_type": "stream",
          "text": [
            "\n"
          ],
          "name": "stderr"
        }
      ]
    },
    {
      "cell_type": "code",
      "metadata": {
        "colab": {
          "base_uri": "https://localhost:8080/",
          "height": 1000
        },
        "id": "P5OUlQgxJeNF",
        "outputId": "d1570a35-31cd-4a73-ec86-b82b2b7e9afc"
      },
      "source": [
        "plt.figure(figsize=(20,13))\n",
        "\n",
        "plt.plot(train_loss_history, label='Training loss')\n",
        "plt.plot(val_loss_history, label='Validation loss')\n",
        "plt.xlabel('Epoch')\n",
        "plt.ylabel('Loss')\n",
        "plt.legend()\n",
        "plt.show()\n",
        "\n",
        "plt.figure(figsize=(20,13))\n",
        "\n",
        "plt.plot(train_accuracy_history, label='Training accuracy')\n",
        "plt.plot(val_accuracy_history, label='Validation accuracy')\n",
        "plt.xlabel('Epoch')\n",
        "plt.ylabel('Accuracy')\n",
        "plt.legend()\n",
        "plt.show()"
      ],
      "execution_count": null,
      "outputs": [
        {
          "output_type": "display_data",
          "data": {
            "image/png": "[encoded data removed]",
            "text/plain": [
              "<Figure size 1440x936 with 1 Axes>"
            ]
          },
          "metadata": {
            "tags": [],
            "needs_background": "light"
          }
        },
        {
          "output_type": "display_data",
          "data": {
            "image/png": "[encoded data removed]",
            "text/plain": [
              "<Figure size 1440x936 with 1 Axes>"
            ]
          },
          "metadata": {
            "tags": [],
            "needs_background": "light"
          }
        }
      ]
    },
    {
      "cell_type": "code",
      "metadata": {
        "id": "I-qE3iwfNMo6"
      },
      "source": [
        ""
      ],
      "execution_count": null,
      "outputs": []
    }
  ]
}